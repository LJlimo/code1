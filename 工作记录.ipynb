{
 "cells": [
  {
   "cell_type": "markdown",
   "metadata": {},
   "source": [
    "## 4.12\n",
    "### 1. TensorBoard已经做了雏形，下一步研究能否保存渲染图进行运动可视化\n",
    "### 2. 下一步应该进一步优化模型（Encode层和策略网络）\n",
    "### 3. 着重分析为什么效果这么差，不稳定，看看能否通过可视化找原因"
   ]
  },
  {
   "cell_type": "markdown",
   "metadata": {},
   "source": [
    "## 4.13\n",
    "### 1.应该用MAPPO算法"
   ]
  },
  {
   "cell_type": "markdown",
   "metadata": {},
   "source": [
    "## 4.15\n",
    "### 1.model.py agent.py train.py \n",
    "model文件负责actor critic网络，agent文件负责生成agent与环境交互，train文件负责训练\n",
    "### 2.在trainloop.py文件中重新写MAPPO的训练过程"
   ]
  },
  {
   "cell_type": "markdown",
   "metadata": {},
   "source": [
    "## 4.17\n",
    "### 1.trainloop写完了，需要进行调试\n",
    "### 2.Encoder的输入还要研究一下，确定agent的观察形状，哪里需要用到联合观察，哪里需要用到局部观察，怎么输入变化的。"
   ]
  },
  {
   "cell_type": "markdown",
   "metadata": {},
   "source": []
  },
  {
   "cell_type": "markdown",
   "metadata": {},
   "source": [
    "## 4.24"
   ]
  },
  {
   "cell_type": "markdown",
   "metadata": {},
   "source": [
    "### 1.已经跑起来了\n",
    "### 2.下面添加各种状态记录：记录每个step的覆盖率，Tensorboard"
   ]
  },
  {
   "cell_type": "markdown",
   "metadata": {},
   "source": [
    "## 4.29"
   ]
  },
  {
   "cell_type": "markdown",
   "metadata": {},
   "source": [
    "### 目前跑出来的效果并不好，存在以下问题：\n",
    "### 1.目标是怎样运动的？（几个项目都看一下）\n",
    "### 2.整理代码文件，考虑是否添加HiT-MAC作为对比\n",
    "### 3.训练好的模型是怎样保存的，测试时是怎样使用训练好的模型的\n",
    "### 4.训练指标的考虑\n",
    "### 5.实验设置上的考虑"
   ]
  },
  {
   "cell_type": "markdown",
   "metadata": {},
   "source": [
    "## 5.8\n",
    "### 1.添加通信模块\n",
    "### 2.设计合适的损失函数"
   ]
  },
  {
   "cell_type": "markdown",
   "metadata": {},
   "source": [
    "## 5.15\n",
    "### 1. 目标运动现在是按照HiT-MAC的方式动的\n",
    "### 2. 加上通信层"
   ]
  },
  {
   "cell_type": "markdown",
   "metadata": {},
   "source": [
    "## 5.17\n",
    "### 1.重新思考了obs的形状（不考虑目标索引、设置最大可观测目标数）\n",
    "### 2.思考了势能函数的集成位置\n",
    "### 3.思考了从obs到策略网络输入的特征提取过程\n",
    "\n",
    "## TODO：\n",
    "### 1.修改obs形状，变成可变的\n",
    "### 2.设计Encoder"
   ]
  },
  {
   "cell_type": "markdown",
   "metadata": {},
   "source": [
    "## 5.20\n",
    "### 1.完成了Actor和Critic\n",
    "### 2.完成了Buffer\n",
    "## TODO：\n",
    "### 1.学习ToM2C，设计optimizer和loss\n",
    "### 2.然后就可以写trainloop和evaluate了"
   ]
  },
  {
   "cell_type": "markdown",
   "metadata": {},
   "source": [
    "## 5.29\n",
    "### 1.目标移动还是很重要，要有朝着目标移动这个，这样轨迹才平滑"
   ]
  },
  {
   "cell_type": "markdown",
   "metadata": {},
   "source": [
    "## 6.3\n",
    "### 1.目标轨迹还是有问题，目标没怎么动，尺度上的调整再看看，没有形成一条轨迹 没有像test里面那样的轨迹"
   ]
  },
  {
   "cell_type": "markdown",
   "metadata": {},
   "source": []
  }
 ],
 "metadata": {
  "language_info": {
   "name": "python"
  }
 },
 "nbformat": 4,
 "nbformat_minor": 2
}
